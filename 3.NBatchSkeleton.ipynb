{
 "cells": [
  {
   "cell_type": "code",
   "execution_count": 7,
   "metadata": {},
   "outputs": [],
   "source": [
    "from mxnet import nd, gpu, cpu\n",
    "\n",
    "ctx = gpu(1)"
   ]
  },
  {
   "cell_type": "markdown",
   "metadata": {},
   "source": [
    "### 자료 불러오기\n",
    "- 불러온 자료는 리스트입니다.\n",
    "- 리스트의 원소는 (프레임 수, 17, 2) 형상을 한 mxnet ndarray 입니다"
   ]
  },
  {
   "cell_type": "markdown",
   "metadata": {},
   "source": [
    "### 우리가 찍은 동영상 불러오기"
   ]
  },
  {
   "cell_type": "code",
   "execution_count": 8,
   "metadata": {},
   "outputs": [],
   "source": [
    "import pickle\n",
    "with open('./data_pkl/our_data_five.pkl', 'rb') as f :\n",
    "    x_data = pickle.load(f)\n",
    "    y_data = pickle.load(f)"
   ]
  },
  {
   "cell_type": "markdown",
   "metadata": {},
   "source": [
    "### 제공받은 이미지 불러오기"
   ]
  },
  {
   "cell_type": "code",
   "execution_count": 9,
   "metadata": {
    "scrolled": true
   },
   "outputs": [
    {
     "name": "stdout",
     "output_type": "stream",
     "text": [
      "2122 2122\n",
      "(26, 17, 2) (1,)\n"
     ]
    }
   ],
   "source": [
    "import pickle\n",
    "with open('./data_pkl/img_data_five.pkl', 'rb') as f :\n",
    "    x_data += pickle.load(f)\n",
    "    y_data += pickle.load(f)\n",
    "    \n",
    "print(len(x_data), len(y_data))\n",
    "print(x_data[1000].shape, y_data[1000].shape)"
   ]
  },
  {
   "cell_type": "markdown",
   "metadata": {},
   "source": [
    "### 자료 전처리\n",
    "- 자료의 시계열 길이를 맞춰줍니다. 94 프레임. `padded`\n",
    "- (17, 2) 형상의 관절점을 34개의 좌표로 펼칩니다. `flat`"
   ]
  },
  {
   "cell_type": "code",
   "execution_count": 10,
   "metadata": {},
   "outputs": [],
   "source": [
    "max_len = 94\n",
    "padded = [nd.concat(x, nd.zeros((max_len-x.shape[0], 17, 2)).as_in_context(ctx), dim=0) for x in x_data]\n",
    "flat = [p.reshape(-1, 34) for p in padded]"
   ]
  },
  {
   "cell_type": "markdown",
   "metadata": {},
   "source": [
    "- 리스트는 이제 필요 없습니다. ndarray로 바꿉니다"
   ]
  },
  {
   "cell_type": "code",
   "execution_count": 11,
   "metadata": {},
   "outputs": [
    {
     "name": "stdout",
     "output_type": "stream",
     "text": [
      "(2122, 94, 34) (2122, 1)\n"
     ]
    }
   ],
   "source": [
    "x_data = nd.stack(*flat)\n",
    "y_data = nd.stack(*[y for y in y_data])\n",
    "print(x_data.shape, y_data.shape)"
   ]
  },
  {
   "cell_type": "markdown",
   "metadata": {},
   "source": [
    "- 학습 자료와 검증 자료로 나눕니다"
   ]
  },
  {
   "cell_type": "code",
   "execution_count": 12,
   "metadata": {},
   "outputs": [
    {
     "name": "stdout",
     "output_type": "stream",
     "text": [
      "(1697, 94, 34) (425, 94, 34) 2122\n"
     ]
    }
   ],
   "source": [
    "import numpy as np\n",
    "\n",
    "num_data = len(x_data)\n",
    "choice_t = np.random.choice(num_data, (int)(num_data*0.80), replace=False)\n",
    "choice_v = [n for n in range(num_data) if not n in choice_t]\n",
    "\n",
    "x_train, y_train = x_data[choice_t], y_data[choice_t]\n",
    "x_valid, y_valid = x_data[choice_v], y_data[choice_v]\n",
    "num_train, num_valid = len(x_train), len(x_valid)\n",
    "\n",
    "print(x_train.shape, x_valid.shape, num_data)"
   ]
  },
  {
   "cell_type": "markdown",
   "metadata": {},
   "source": [
    "### 자료 분포 확인"
   ]
  },
  {
   "cell_type": "code",
   "execution_count": 17,
   "metadata": {},
   "outputs": [
    {
     "data": {
      "text/plain": [
       "[\n",
       " [19.227144]\n",
       " <NDArray 1 @gpu(1)>, \n",
       " [20.546654]\n",
       " <NDArray 1 @gpu(1)>, \n",
       " [20.735155]\n",
       " <NDArray 1 @gpu(1)>, \n",
       " [14.985863]\n",
       " <NDArray 1 @gpu(1)>, \n",
       " [24.505182]\n",
       " <NDArray 1 @gpu(1)>]"
      ]
     },
     "execution_count": 17,
     "metadata": {},
     "output_type": "execute_result"
    }
   ],
   "source": [
    "dist = []\n",
    "for i in range(5) :\n",
    "    dist.append((y_data == i).sum())\n",
    "        \n",
    "[d / sum(dist) * 100 for d in dist]"
   ]
  },
  {
   "cell_type": "markdown",
   "metadata": {},
   "source": [
    "### 학습"
   ]
  },
  {
   "cell_type": "code",
   "execution_count": 44,
   "metadata": {},
   "outputs": [],
   "source": [
    "from mxnet import gluon, init\n",
    "from mxnet import autograd\n",
    "from mxnet.gluon import nn, rnn\n",
    "import mxnet as mx\n",
    "from SkeletonARModel import SkeletonARModel"
   ]
  },
  {
   "cell_type": "markdown",
   "metadata": {},
   "source": [
    "- 모델을 생성합니다\n",
    "- 가중치를 초기화합니다.\n",
    "- `SkeletonAR.params` 에는 5중 분류기의 학습된 가중치가 저장되어 있습니다."
   ]
  },
  {
   "cell_type": "code",
   "execution_count": 47,
   "metadata": {
    "scrolled": true
   },
   "outputs": [],
   "source": [
    "model = SkeletonARModel()\n",
    "model.collect_params().initialize(init.Xavier(), force_reinit=True, ctx=ctx)\n",
    "model.load_parameters(\"./model_params/SkeletonAR.params\", ignore_extra=True, allow_missing=True, ctx=ctx)"
   ]
  },
  {
   "cell_type": "code",
   "execution_count": 48,
   "metadata": {},
   "outputs": [
    {
     "name": "stdout",
     "output_type": "stream",
     "text": [
      "\n",
      "******Epoch {0} ******\n",
      "**loss > 0.12645193934440613\n",
      "**\t train_acc >> ('accuracy', 0.9693396226415094)\n",
      "**\t valid loss >> 0.15134508907794952\n",
      "**\t valid_acc >> ('accuracy', 0.9658421672555948), \n",
      "**\t predicts >>  \n",
      "[0. 0. 2. 0. 2. 0. 0. 0. 3. 1. 1. 1. 1. 0. 2. 2. 2. 2. 2. 2. 2. 2. 2. 3.\n",
      " 3. 3. 3. 3. 4. 4. 4. 4. 4. 4. 4. 4. 4. 4. 4. 4. 4. 4. 4. 4. 4. 3. 4. 4.\n",
      " 4. 4. 4. 3. 3. 4. 4. 4. 2. 0. 0. 0. 2. 1. 1. 1. 1. 1. 1. 1. 3. 3. 4. 4.\n",
      " 4. 4. 4. 0. 4. 4. 4. 2. 4. 4. 4. 4. 4. 4. 0. 0. 0. 0. 0. 0. 0. 0. 0. 0.\n",
      " 0. 0. 0. 0. 0. 3. 0. 0. 0. 0. 0. 0. 0. 0. 0. 0. 0. 0. 0. 0. 0. 0. 0. 0.\n",
      " 0. 0. 2. 0. 0. 0. 0. 0. 0. 0. 0. 0. 0. 0. 0. 0. 0. 0. 0. 3. 0. 0. 0. 0.\n",
      " 0. 0. 0. 0. 0. 0. 0. 0. 0. 0. 0. 0. 0. 0. 0. 0. 0. 0. 0. 0. 0. 0. 0. 0.\n",
      " 0. 0. 0. 0. 0. 1. 1. 1. 1. 1. 1. 1. 1. 1. 1. 1. 1. 1. 1. 1. 1. 1. 1. 1.\n",
      " 1. 1. 1. 1. 1. 1. 1. 1. 1. 1. 1. 1. 1. 1. 1. 1. 1. 1. 1. 1. 1. 1. 1. 1.\n",
      " 1. 1. 1. 1. 1. 1. 1. 1. 1. 1. 1. 1. 1. 1. 1. 1. 1. 1. 1. 1. 1. 2. 2. 2.\n",
      " 2. 2. 2. 2. 2. 2. 2. 2. 2. 2. 2. 2. 2. 2. 2. 2. 2. 2. 2. 2. 2. 2. 2. 2.\n",
      " 2. 2. 2. 2. 2. 2. 2. 2. 2. 2. 2. 2. 2. 2. 2. 2. 2. 2. 2. 2. 2. 2. 2. 2.\n",
      " 2. 2. 2. 2. 2. 2. 2. 2. 2. 2. 2. 2. 2. 2. 2. 2. 2. 2. 2. 2. 2. 2. 2. 3.\n",
      " 3. 3. 3. 3. 3. 3. 3. 3. 3. 3. 3. 3. 3. 3. 3. 3. 3. 3. 3. 3. 3. 1. 3. 3.\n",
      " 3. 3. 3. 3. 3. 3. 3. 3. 3. 3. 3. 3. 3. 3. 3. 3. 3. 3. 3. 3. 3. 3. 3. 3.\n",
      " 3. 3. 4. 4. 4. 4. 4. 4. 4. 4. 4. 4. 4. 4. 4. 4. 4. 2. 4. 4. 4. 4. 4. 4.\n",
      " 4. 4. 4. 4. 4. 4. 4. 4. 4. 4. 4. 4. 4. 4. 4. 4. 4. 4. 4. 4. 4. 4. 4. 4.\n",
      " 4. 4. 4. 4. 4. 4. 4. 4. 4. 4. 4. 4. 4. 4. 4. 4. 4.]\n",
      "<NDArray 425 @gpu(1)>\n",
      "\n",
      "******Epoch {1} ******\n",
      "**loss > 0.12560997903347015\n",
      "\n",
      "******Epoch {2} ******\n",
      "**loss > 0.09720507264137268\n",
      "\n",
      "******Epoch {3} ******\n",
      "**loss > 0.10728690028190613\n",
      "\n",
      "******Epoch {4} ******\n",
      "**loss > 0.1535108983516693\n",
      "\n",
      "******Epoch {5} ******\n",
      "**loss > 0.09115277975797653\n",
      "\n",
      "******Epoch {6} ******\n",
      "**loss > 0.08697875589132309\n",
      "\n",
      "******Epoch {7} ******\n",
      "**loss > 0.08273857831954956\n",
      "\n",
      "******Epoch {8} ******\n",
      "**loss > 0.06926252692937851\n",
      "\n",
      "******Epoch {9} ******\n",
      "**loss > 0.08606325089931488\n",
      "\n",
      "******Epoch {10} ******\n",
      "**loss > 0.11981560289859772\n",
      "\n",
      "******Epoch {11} ******\n",
      "**loss > 0.05893388018012047\n",
      "\n",
      "******Epoch {12} ******\n",
      "**loss > 0.10856492817401886\n",
      "\n",
      "******Epoch {13} ******\n",
      "**loss > 0.09527519345283508\n",
      "\n",
      "******Epoch {14} ******\n",
      "**loss > 0.057220615446567535\n",
      "\n",
      "******Epoch {15} ******\n",
      "**loss > 0.08997232466936111\n",
      "\n",
      "******Epoch {16} ******\n",
      "**loss > 0.07144855707883835\n",
      "\n",
      "******Epoch {17} ******\n",
      "**loss > 0.09613808989524841\n",
      "\n",
      "******Epoch {18} ******\n",
      "**loss > 0.09063731133937836\n",
      "\n",
      "******Epoch {19} ******\n",
      "**loss > 0.09145709872245789\n",
      "\n",
      "******Epoch {20} ******\n",
      "**loss > 0.07205729931592941\n",
      "**\t train_acc >> ('accuracy', 0.9685781618224666)\n",
      "**\t valid loss >> 0.05880368500947952\n",
      "**\t valid_acc >> ('accuracy', 0.9711425206124853), \n",
      "**\t predicts >>  \n",
      "[0. 0. 2. 0. 0. 0. 0. 0. 0. 1. 1. 1. 1. 1. 2. 2. 2. 2. 2. 2. 2. 2. 2. 3.\n",
      " 3. 3. 3. 3. 4. 4. 4. 4. 4. 4. 4. 4. 4. 4. 4. 2. 4. 4. 4. 4. 4. 3. 4. 4.\n",
      " 4. 4. 4. 3. 3. 4. 4. 4. 0. 0. 0. 0. 1. 1. 1. 1. 1. 1. 1. 1. 3. 3. 4. 4.\n",
      " 4. 4. 4. 4. 4. 4. 4. 4. 4. 4. 4. 4. 4. 4. 0. 0. 0. 0. 0. 0. 0. 0. 0. 0.\n",
      " 0. 0. 0. 0. 0. 3. 0. 0. 0. 0. 0. 0. 0. 0. 0. 0. 0. 0. 0. 0. 0. 0. 0. 0.\n",
      " 0. 0. 2. 0. 0. 0. 0. 0. 0. 0. 0. 0. 0. 0. 0. 0. 0. 0. 0. 3. 0. 0. 0. 0.\n",
      " 0. 0. 0. 0. 0. 0. 0. 0. 0. 0. 0. 0. 0. 0. 0. 0. 0. 0. 0. 0. 0. 0. 0. 0.\n",
      " 0. 0. 0. 0. 0. 1. 1. 1. 1. 1. 1. 1. 1. 1. 1. 1. 1. 1. 1. 1. 1. 1. 1. 1.\n",
      " 1. 1. 1. 1. 1. 1. 1. 1. 1. 1. 1. 1. 1. 1. 1. 1. 1. 1. 1. 1. 1. 1. 1. 1.\n",
      " 1. 1. 1. 1. 1. 1. 1. 1. 1. 1. 1. 1. 1. 1. 1. 1. 1. 1. 1. 1. 1. 2. 2. 2.\n",
      " 2. 2. 2. 2. 2. 2. 2. 2. 2. 2. 2. 2. 2. 2. 2. 2. 2. 2. 2. 2. 2. 2. 2. 2.\n",
      " 2. 2. 2. 2. 2. 2. 2. 2. 2. 2. 2. 2. 2. 2. 2. 2. 2. 2. 2. 2. 2. 2. 2. 2.\n",
      " 2. 2. 2. 2. 2. 2. 2. 2. 2. 2. 2. 2. 2. 2. 2. 2. 2. 2. 2. 2. 2. 2. 2. 3.\n",
      " 3. 3. 3. 3. 3. 3. 3. 3. 3. 3. 3. 3. 3. 3. 3. 3. 3. 3. 3. 3. 3. 0. 3. 3.\n",
      " 3. 3. 3. 3. 3. 3. 3. 3. 3. 3. 3. 3. 3. 3. 3. 3. 3. 3. 3. 3. 3. 3. 3. 3.\n",
      " 3. 3. 4. 4. 4. 4. 4. 4. 4. 4. 4. 4. 4. 4. 4. 4. 4. 4. 4. 4. 4. 4. 4. 4.\n",
      " 4. 4. 4. 4. 4. 4. 4. 4. 4. 4. 4. 4. 4. 4. 4. 4. 4. 4. 4. 4. 4. 4. 4. 4.\n",
      " 4. 4. 4. 4. 4. 4. 4. 4. 4. 4. 4. 4. 4. 4. 4. 4. 4.]\n",
      "<NDArray 425 @gpu(1)>\n",
      "\n",
      "******Epoch {21} ******\n",
      "**loss > 0.10374468564987183\n",
      "\n",
      "******Epoch {22} ******\n",
      "**loss > 0.07063020765781403\n",
      "\n",
      "******Epoch {23} ******\n",
      "**loss > 0.12995193898677826\n",
      "\n",
      "******Epoch {24} ******\n",
      "**loss > 0.12062586098909378\n",
      "\n",
      "******Epoch {25} ******\n",
      "**loss > 0.09698053449392319\n",
      "\n",
      "******Epoch {26} ******\n",
      "**loss > 0.09972319006919861\n",
      "\n",
      "******Epoch {27} ******\n",
      "**loss > 0.09808401018381119\n",
      "\n",
      "******Epoch {28} ******\n",
      "**loss > 0.08701804280281067\n",
      "\n",
      "******Epoch {29} ******\n",
      "**loss > 0.12265020608901978\n",
      "\n",
      "******Epoch {30} ******\n",
      "**loss > 0.08700666576623917\n",
      "\n",
      "******Epoch {31} ******\n",
      "**loss > 0.09649665653705597\n",
      "\n",
      "******Epoch {32} ******\n",
      "**loss > 0.07256295531988144\n",
      "\n",
      "******Epoch {33} ******\n",
      "**loss > 0.0952037051320076\n",
      "\n",
      "******Epoch {34} ******\n",
      "**loss > 0.09915308654308319\n",
      "\n",
      "******Epoch {35} ******\n",
      "**loss > 0.0995989739894867\n",
      "\n",
      "******Epoch {36} ******\n",
      "**loss > 0.13426706194877625\n",
      "\n",
      "******Epoch {37} ******\n",
      "**loss > 0.0810578241944313\n",
      "\n",
      "******Epoch {38} ******\n",
      "**loss > 0.08889488130807877\n",
      "\n",
      "******Epoch {39} ******\n",
      "**loss > 0.08694448322057724\n",
      "\n",
      "******Epoch {40} ******\n",
      "**loss > 0.08385273069143295\n",
      "**\t train_acc >> ('accuracy', 0.9698397737983034)\n",
      "**\t valid loss >> 0.05286329984664917\n",
      "**\t valid_acc >> ('accuracy', 0.9713388299960738), \n",
      "**\t predicts >>  \n",
      "[4. 0. 2. 0. 0. 0. 0. 0. 0. 1. 1. 1. 1. 1. 2. 2. 2. 2. 2. 2. 2. 2. 2. 3.\n",
      " 3. 3. 3. 3. 4. 4. 4. 4. 4. 4. 4. 4. 4. 4. 4. 4. 4. 4. 4. 4. 4. 3. 4. 4.\n",
      " 4. 4. 4. 3. 3. 4. 4. 4. 0. 0. 0. 0. 1. 1. 1. 1. 1. 1. 1. 1. 3. 3. 4. 4.\n",
      " 4. 4. 4. 4. 4. 4. 4. 2. 4. 4. 4. 4. 4. 4. 0. 0. 0. 0. 0. 0. 0. 0. 0. 0.\n",
      " 0. 0. 0. 0. 0. 2. 0. 0. 0. 0. 0. 0. 0. 0. 0. 0. 0. 0. 0. 0. 0. 0. 0. 0.\n",
      " 0. 0. 0. 0. 0. 0. 0. 0. 0. 0. 0. 0. 0. 0. 0. 0. 0. 0. 0. 3. 0. 0. 0. 0.\n",
      " 0. 0. 0. 0. 0. 0. 0. 0. 0. 0. 0. 0. 0. 0. 0. 0. 0. 0. 0. 0. 0. 0. 0. 0.\n",
      " 0. 0. 0. 0. 0. 1. 1. 1. 1. 1. 1. 1. 1. 1. 1. 1. 1. 1. 1. 1. 1. 1. 1. 1.\n",
      " 1. 1. 1. 1. 1. 1. 1. 1. 1. 1. 1. 1. 1. 1. 1. 1. 1. 1. 1. 1. 1. 1. 1. 1.\n",
      " 1. 1. 1. 1. 1. 1. 1. 1. 1. 1. 1. 1. 1. 1. 1. 1. 1. 1. 1. 1. 1. 2. 2. 2.\n",
      " 2. 2. 2. 2. 2. 2. 2. 2. 2. 2. 2. 2. 2. 2. 2. 2. 2. 2. 2. 2. 2. 2. 2. 2.\n",
      " 2. 2. 2. 2. 2. 2. 2. 2. 2. 2. 2. 2. 2. 2. 2. 2. 2. 2. 2. 2. 2. 2. 2. 2.\n",
      " 2. 2. 2. 2. 2. 2. 2. 2. 2. 2. 2. 2. 2. 2. 2. 2. 2. 2. 2. 2. 2. 2. 2. 3.\n",
      " 3. 3. 3. 3. 3. 3. 3. 3. 3. 3. 3. 3. 3. 3. 3. 3. 3. 3. 3. 3. 3. 0. 3. 3.\n",
      " 3. 3. 3. 3. 3. 3. 3. 3. 3. 3. 3. 3. 3. 3. 3. 3. 3. 3. 3. 3. 3. 3. 3. 3.\n",
      " 3. 3. 4. 4. 4. 4. 4. 4. 4. 4. 4. 4. 4. 4. 4. 4. 4. 4. 4. 4. 4. 4. 4. 4.\n",
      " 4. 4. 4. 4. 4. 4. 4. 4. 4. 4. 4. 4. 4. 4. 4. 4. 4. 4. 4. 4. 4. 4. 4. 4.\n",
      " 4. 4. 4. 4. 4. 4. 4. 4. 4. 4. 4. 4. 4. 4. 4. 4. 4.]\n",
      "<NDArray 425 @gpu(1)>\n",
      "\n",
      "******Epoch {41} ******\n",
      "**loss > 0.09502711892127991\n",
      "\n",
      "******Epoch {42} ******\n",
      "**loss > 0.09342941641807556\n",
      "\n",
      "******Epoch {43} ******\n",
      "**loss > 0.11010552197694778\n",
      "\n",
      "******Epoch {44} ******\n",
      "**loss > 0.06447802484035492\n",
      "\n",
      "******Epoch {45} ******\n",
      "**loss > 0.09799566119909286\n",
      "\n",
      "******Epoch {46} ******\n",
      "**loss > 0.10771100968122482\n",
      "\n",
      "******Epoch {47} ******\n",
      "**loss > 0.09587360918521881\n",
      "\n",
      "******Epoch {48} ******\n",
      "**loss > 0.09223419427871704\n",
      "\n",
      "******Epoch {49} ******\n",
      "**loss > 0.09285587072372437\n",
      "\n",
      "******Epoch {50} ******\n",
      "**loss > 0.0900522768497467\n"
     ]
    },
    {
     "ename": "KeyboardInterrupt",
     "evalue": "",
     "output_type": "error",
     "traceback": [
      "\u001b[0;31m---------------------------------------------------------------------------\u001b[0m",
      "\u001b[0;31mKeyboardInterrupt\u001b[0m                         Traceback (most recent call last)",
      "\u001b[0;32m<ipython-input-48-2f1c9ec131b7>\u001b[0m in \u001b[0;36m<module>\u001b[0;34m()\u001b[0m\n\u001b[1;32m     10\u001b[0m \u001b[0;34m\u001b[0m\u001b[0m\n\u001b[1;32m     11\u001b[0m         \u001b[0;32mwith\u001b[0m \u001b[0mautograd\u001b[0m\u001b[0;34m.\u001b[0m\u001b[0mrecord\u001b[0m\u001b[0;34m(\u001b[0m\u001b[0;34m)\u001b[0m \u001b[0;34m:\u001b[0m\u001b[0;34m\u001b[0m\u001b[0m\n\u001b[0;32m---> 12\u001b[0;31m             \u001b[0my_hat\u001b[0m \u001b[0;34m=\u001b[0m \u001b[0mmodel\u001b[0m\u001b[0;34m(\u001b[0m\u001b[0mx_train\u001b[0m\u001b[0;34m[\u001b[0m\u001b[0mchoice\u001b[0m\u001b[0;34m]\u001b[0m\u001b[0;34m)\u001b[0m\u001b[0;34m\u001b[0m\u001b[0m\n\u001b[0m\u001b[1;32m     13\u001b[0m             \u001b[0mloss\u001b[0m \u001b[0;34m=\u001b[0m \u001b[0mLoss\u001b[0m\u001b[0;34m(\u001b[0m\u001b[0my_hat\u001b[0m\u001b[0;34m,\u001b[0m \u001b[0my_train\u001b[0m\u001b[0;34m[\u001b[0m\u001b[0mchoice\u001b[0m\u001b[0;34m]\u001b[0m\u001b[0;34m)\u001b[0m\u001b[0;34m\u001b[0m\u001b[0m\n\u001b[1;32m     14\u001b[0m         \u001b[0mloss\u001b[0m\u001b[0;34m.\u001b[0m\u001b[0mbackward\u001b[0m\u001b[0;34m(\u001b[0m\u001b[0;34m)\u001b[0m\u001b[0;34m\u001b[0m\u001b[0m\n",
      "\u001b[0;32m~/.conda/envs/python35/lib/python3.5/site-packages/mxnet/gluon/block.py\u001b[0m in \u001b[0;36m__call__\u001b[0;34m(self, *args)\u001b[0m\n\u001b[1;32m    546\u001b[0m             \u001b[0mhook\u001b[0m\u001b[0;34m(\u001b[0m\u001b[0mself\u001b[0m\u001b[0;34m,\u001b[0m \u001b[0margs\u001b[0m\u001b[0;34m)\u001b[0m\u001b[0;34m\u001b[0m\u001b[0m\n\u001b[1;32m    547\u001b[0m \u001b[0;34m\u001b[0m\u001b[0m\n\u001b[0;32m--> 548\u001b[0;31m         \u001b[0mout\u001b[0m \u001b[0;34m=\u001b[0m \u001b[0mself\u001b[0m\u001b[0;34m.\u001b[0m\u001b[0mforward\u001b[0m\u001b[0;34m(\u001b[0m\u001b[0;34m*\u001b[0m\u001b[0margs\u001b[0m\u001b[0;34m)\u001b[0m\u001b[0;34m\u001b[0m\u001b[0m\n\u001b[0m\u001b[1;32m    549\u001b[0m \u001b[0;34m\u001b[0m\u001b[0m\n\u001b[1;32m    550\u001b[0m         \u001b[0;32mfor\u001b[0m \u001b[0mhook\u001b[0m \u001b[0;32min\u001b[0m \u001b[0mself\u001b[0m\u001b[0;34m.\u001b[0m\u001b[0m_forward_hooks\u001b[0m\u001b[0;34m.\u001b[0m\u001b[0mvalues\u001b[0m\u001b[0;34m(\u001b[0m\u001b[0;34m)\u001b[0m\u001b[0;34m:\u001b[0m\u001b[0;34m\u001b[0m\u001b[0m\n",
      "\u001b[0;32m~/xentai/2.Action Recognition/SkeletonARModel.py\u001b[0m in \u001b[0;36mforward\u001b[0;34m(self, input)\u001b[0m\n\u001b[1;32m     27\u001b[0m         \u001b[0mX\u001b[0m \u001b[0;34m=\u001b[0m \u001b[0minput\u001b[0m\u001b[0;34m\u001b[0m\u001b[0m\n\u001b[1;32m     28\u001b[0m         \u001b[0;32mfor\u001b[0m \u001b[0mblk\u001b[0m \u001b[0;32min\u001b[0m \u001b[0mself\u001b[0m\u001b[0;34m.\u001b[0m\u001b[0mnet\u001b[0m \u001b[0;34m:\u001b[0m\u001b[0;34m\u001b[0m\u001b[0m\n\u001b[0;32m---> 29\u001b[0;31m             \u001b[0mX\u001b[0m \u001b[0;34m=\u001b[0m \u001b[0mblk\u001b[0m\u001b[0;34m(\u001b[0m\u001b[0mX\u001b[0m\u001b[0;34m)\u001b[0m\u001b[0;34m\u001b[0m\u001b[0m\n\u001b[0m\u001b[1;32m     30\u001b[0m         \u001b[0;32mreturn\u001b[0m \u001b[0mX\u001b[0m\u001b[0;34m\u001b[0m\u001b[0m\n",
      "\u001b[0;32m~/.conda/envs/python35/lib/python3.5/site-packages/mxnet/gluon/rnn/rnn_layer.py\u001b[0m in \u001b[0;36m__call__\u001b[0;34m(self, inputs, states, sequence_length, **kwargs)\u001b[0m\n\u001b[1;32m    226\u001b[0m             \u001b[0;32mif\u001b[0m \u001b[0misinstance\u001b[0m\u001b[0;34m(\u001b[0m\u001b[0minputs\u001b[0m\u001b[0;34m,\u001b[0m \u001b[0mndarray\u001b[0m\u001b[0;34m.\u001b[0m\u001b[0mNDArray\u001b[0m\u001b[0;34m)\u001b[0m\u001b[0;34m:\u001b[0m\u001b[0;34m\u001b[0m\u001b[0m\n\u001b[1;32m    227\u001b[0m                 \u001b[0mbatch_size\u001b[0m \u001b[0;34m=\u001b[0m \u001b[0minputs\u001b[0m\u001b[0;34m.\u001b[0m\u001b[0mshape\u001b[0m\u001b[0;34m[\u001b[0m\u001b[0mself\u001b[0m\u001b[0;34m.\u001b[0m\u001b[0m_layout\u001b[0m\u001b[0;34m.\u001b[0m\u001b[0mfind\u001b[0m\u001b[0;34m(\u001b[0m\u001b[0;34m'N'\u001b[0m\u001b[0;34m)\u001b[0m\u001b[0;34m]\u001b[0m\u001b[0;34m\u001b[0m\u001b[0m\n\u001b[0;32m--> 228\u001b[0;31m                 \u001b[0mstates\u001b[0m \u001b[0;34m=\u001b[0m \u001b[0mself\u001b[0m\u001b[0;34m.\u001b[0m\u001b[0mbegin_state\u001b[0m\u001b[0;34m(\u001b[0m\u001b[0mbatch_size\u001b[0m\u001b[0;34m,\u001b[0m \u001b[0mctx\u001b[0m\u001b[0;34m=\u001b[0m\u001b[0minputs\u001b[0m\u001b[0;34m.\u001b[0m\u001b[0mcontext\u001b[0m\u001b[0;34m,\u001b[0m \u001b[0mdtype\u001b[0m\u001b[0;34m=\u001b[0m\u001b[0minputs\u001b[0m\u001b[0;34m.\u001b[0m\u001b[0mdtype\u001b[0m\u001b[0;34m)\u001b[0m\u001b[0;34m\u001b[0m\u001b[0m\n\u001b[0m\u001b[1;32m    229\u001b[0m             \u001b[0;32melse\u001b[0m\u001b[0;34m:\u001b[0m\u001b[0;34m\u001b[0m\u001b[0m\n\u001b[1;32m    230\u001b[0m                 \u001b[0mstates\u001b[0m \u001b[0;34m=\u001b[0m \u001b[0mself\u001b[0m\u001b[0;34m.\u001b[0m\u001b[0mbegin_state\u001b[0m\u001b[0;34m(\u001b[0m\u001b[0;36m0\u001b[0m\u001b[0;34m,\u001b[0m \u001b[0mfunc\u001b[0m\u001b[0;34m=\u001b[0m\u001b[0msymbol\u001b[0m\u001b[0;34m.\u001b[0m\u001b[0mzeros\u001b[0m\u001b[0;34m)\u001b[0m\u001b[0;34m\u001b[0m\u001b[0m\n",
      "\u001b[0;32m~/.conda/envs/python35/lib/python3.5/site-packages/mxnet/gluon/rnn/rnn_layer.py\u001b[0m in \u001b[0;36mbegin_state\u001b[0;34m(self, batch_size, func, **kwargs)\u001b[0m\n\u001b[1;32m    218\u001b[0m             \u001b[0;32melse\u001b[0m\u001b[0;34m:\u001b[0m\u001b[0;34m\u001b[0m\u001b[0m\n\u001b[1;32m    219\u001b[0m                 \u001b[0minfo\u001b[0m \u001b[0;34m=\u001b[0m \u001b[0mkwargs\u001b[0m\u001b[0;34m\u001b[0m\u001b[0m\n\u001b[0;32m--> 220\u001b[0;31m             \u001b[0mstates\u001b[0m\u001b[0;34m.\u001b[0m\u001b[0mappend\u001b[0m\u001b[0;34m(\u001b[0m\u001b[0mfunc\u001b[0m\u001b[0;34m(\u001b[0m\u001b[0mname\u001b[0m\u001b[0;34m=\u001b[0m\u001b[0;34m'%sh0_%d'\u001b[0m\u001b[0;34m%\u001b[0m\u001b[0;34m(\u001b[0m\u001b[0mself\u001b[0m\u001b[0;34m.\u001b[0m\u001b[0mprefix\u001b[0m\u001b[0;34m,\u001b[0m \u001b[0mi\u001b[0m\u001b[0;34m)\u001b[0m\u001b[0;34m,\u001b[0m \u001b[0;34m**\u001b[0m\u001b[0minfo\u001b[0m\u001b[0;34m)\u001b[0m\u001b[0;34m)\u001b[0m\u001b[0;34m\u001b[0m\u001b[0m\n\u001b[0m\u001b[1;32m    221\u001b[0m         \u001b[0;32mreturn\u001b[0m \u001b[0mstates\u001b[0m\u001b[0;34m\u001b[0m\u001b[0m\n\u001b[1;32m    222\u001b[0m \u001b[0;34m\u001b[0m\u001b[0m\n",
      "\u001b[0;32m~/.conda/envs/python35/lib/python3.5/site-packages/mxnet/ndarray/utils.py\u001b[0m in \u001b[0;36mzeros\u001b[0;34m(shape, ctx, dtype, stype, **kwargs)\u001b[0m\n\u001b[1;32m     65\u001b[0m \u001b[0;34m\u001b[0m\u001b[0m\n\u001b[1;32m     66\u001b[0m     \u001b[0;32mif\u001b[0m \u001b[0mstype\u001b[0m \u001b[0;32mis\u001b[0m \u001b[0;32mNone\u001b[0m \u001b[0;32mor\u001b[0m \u001b[0mstype\u001b[0m \u001b[0;34m==\u001b[0m \u001b[0;34m'default'\u001b[0m\u001b[0;34m:\u001b[0m\u001b[0;34m\u001b[0m\u001b[0m\n\u001b[0;32m---> 67\u001b[0;31m         \u001b[0;32mreturn\u001b[0m \u001b[0m_zeros_ndarray\u001b[0m\u001b[0;34m(\u001b[0m\u001b[0mshape\u001b[0m\u001b[0;34m,\u001b[0m \u001b[0mctx\u001b[0m\u001b[0;34m,\u001b[0m \u001b[0mdtype\u001b[0m\u001b[0;34m,\u001b[0m \u001b[0;34m**\u001b[0m\u001b[0mkwargs\u001b[0m\u001b[0;34m)\u001b[0m\u001b[0;34m\u001b[0m\u001b[0m\n\u001b[0m\u001b[1;32m     68\u001b[0m     \u001b[0;32melse\u001b[0m\u001b[0;34m:\u001b[0m\u001b[0;34m\u001b[0m\u001b[0m\n\u001b[1;32m     69\u001b[0m         \u001b[0;32mreturn\u001b[0m \u001b[0m_zeros_sparse_ndarray\u001b[0m\u001b[0;34m(\u001b[0m\u001b[0mstype\u001b[0m\u001b[0;34m,\u001b[0m \u001b[0mshape\u001b[0m\u001b[0;34m,\u001b[0m \u001b[0mctx\u001b[0m\u001b[0;34m,\u001b[0m \u001b[0mdtype\u001b[0m\u001b[0;34m,\u001b[0m \u001b[0;34m**\u001b[0m\u001b[0mkwargs\u001b[0m\u001b[0;34m)\u001b[0m\u001b[0;34m\u001b[0m\u001b[0m\n",
      "\u001b[0;32m~/.conda/envs/python35/lib/python3.5/site-packages/mxnet/ndarray/ndarray.py\u001b[0m in \u001b[0;36mzeros\u001b[0;34m(shape, ctx, dtype, **kwargs)\u001b[0m\n\u001b[1;32m   3883\u001b[0m     \u001b[0mdtype\u001b[0m \u001b[0;34m=\u001b[0m \u001b[0mmx_real_t\u001b[0m \u001b[0;32mif\u001b[0m \u001b[0mdtype\u001b[0m \u001b[0;32mis\u001b[0m \u001b[0;32mNone\u001b[0m \u001b[0;32melse\u001b[0m \u001b[0mdtype\u001b[0m\u001b[0;34m\u001b[0m\u001b[0m\n\u001b[1;32m   3884\u001b[0m     \u001b[0;31m# pylint: disable= no-member, protected-access\u001b[0m\u001b[0;34m\u001b[0m\u001b[0;34m\u001b[0m\u001b[0m\n\u001b[0;32m-> 3885\u001b[0;31m     \u001b[0;32mreturn\u001b[0m \u001b[0m_internal\u001b[0m\u001b[0;34m.\u001b[0m\u001b[0m_zeros\u001b[0m\u001b[0;34m(\u001b[0m\u001b[0mshape\u001b[0m\u001b[0;34m=\u001b[0m\u001b[0mshape\u001b[0m\u001b[0;34m,\u001b[0m \u001b[0mctx\u001b[0m\u001b[0;34m=\u001b[0m\u001b[0mctx\u001b[0m\u001b[0;34m,\u001b[0m \u001b[0mdtype\u001b[0m\u001b[0;34m=\u001b[0m\u001b[0mdtype\u001b[0m\u001b[0;34m,\u001b[0m \u001b[0;34m**\u001b[0m\u001b[0mkwargs\u001b[0m\u001b[0;34m)\u001b[0m\u001b[0;34m\u001b[0m\u001b[0m\n\u001b[0m\u001b[1;32m   3886\u001b[0m     \u001b[0;31m# pylint: enable= no-member, protected-access\u001b[0m\u001b[0;34m\u001b[0m\u001b[0;34m\u001b[0m\u001b[0m\n\u001b[1;32m   3887\u001b[0m \u001b[0;34m\u001b[0m\u001b[0m\n",
      "\u001b[0;32m~/.conda/envs/python35/lib/python3.5/site-packages/mxnet/ndarray/register.py\u001b[0m in \u001b[0;36m_zeros\u001b[0;34m(shape, ctx, dtype, out, name, **kwargs)\u001b[0m\n",
      "\u001b[0;31mKeyboardInterrupt\u001b[0m: "
     ]
    }
   ],
   "source": [
    "lr = 0.005\n",
    "acc = mx.metric.Accuracy()\n",
    "Loss = gluon.loss.SoftmaxCrossEntropyLoss(sparse_label=True)\n",
    "trainer = gluon.Trainer(model.collect_params(), 'adam', {'learning_rate': lr})\n",
    "\n",
    "for epoch in range(10000):\n",
    "    \n",
    "    for i in range(4) :\n",
    "        choice = np.random.choice(num_train, int(num_train * 0.25), replace=False)\n",
    "        \n",
    "        with autograd.record() :\n",
    "            y_hat = model(x_train[choice])\n",
    "            loss = Loss(y_hat, y_train[choice])\n",
    "        loss.backward()\n",
    "        trainer.step(batch_size=len(choice))\n",
    "        \n",
    "    print(\"\\n******Epoch {%d} ******\" % epoch)\n",
    "    print(\"**loss > {}\".format(nd.sum(loss / len(choice)).asscalar()))\n",
    "        \n",
    "    if epoch % 20 == 0 :\n",
    "        try :\n",
    "            acc.update(preds=y_hat, labels=y_train[choice])\n",
    "            print(\"**\\t train_acc >> {}\".format(acc.get()))\n",
    "\n",
    "            valid_y_hat = model(x_valid)\n",
    "            valid_loss = Loss(valid_y_hat, y_valid)\n",
    "            print(\"**\\t valid loss >> {}\".format(nd.sum(valid_loss / num_valid).asscalar()))\n",
    "\n",
    "            acc.update(preds=valid_y_hat, labels=y_valid)\n",
    "            print(\"**\\t valid_acc >> {}, \".format(acc.get()))\n",
    "\n",
    "            print(\"**\\t predicts >> \", nd.argmax(valid_y_hat, axis=1))\n",
    "\n",
    "        except KeyboardInterrupt :\n",
    "            break\n",
    "        except :\n",
    "            print(\"errors\")    "
   ]
  },
  {
   "cell_type": "markdown",
   "metadata": {},
   "source": [
    "### 학습 가중치 저장"
   ]
  },
  {
   "cell_type": "code",
   "execution_count": 27,
   "metadata": {},
   "outputs": [],
   "source": [
    "model.save_parameters(\"skeletonAR.params\")"
   ]
  },
  {
   "cell_type": "code",
   "execution_count": 20,
   "metadata": {},
   "outputs": [],
   "source": [
    "model.load_parameters(\"skeletonAR.params\", ctx=ctx)"
   ]
  },
  {
   "cell_type": "markdown",
   "metadata": {},
   "source": [
    "### 검증 데이터로 accuracy 재보기"
   ]
  },
  {
   "cell_type": "code",
   "execution_count": 53,
   "metadata": {},
   "outputs": [
    {
     "data": {
      "text/plain": [
       "\n",
       "[0.9811765]\n",
       "<NDArray 1 @gpu(1)>"
      ]
     },
     "execution_count": 53,
     "metadata": {},
     "output_type": "execute_result"
    }
   ],
   "source": [
    "compare = model(x_valid).argmax(axis=1) == y_valid.squeeze()\n",
    "compare.sum() / len(compare)"
   ]
  }
 ],
 "metadata": {
  "kernelspec": {
   "display_name": "Python 3",
   "language": "python",
   "name": "python3"
  },
  "language_info": {
   "codemirror_mode": {
    "name": "ipython",
    "version": 3
   },
   "file_extension": ".py",
   "mimetype": "text/x-python",
   "name": "python",
   "nbconvert_exporter": "python",
   "pygments_lexer": "ipython3",
   "version": "3.5.6"
  }
 },
 "nbformat": 4,
 "nbformat_minor": 2
}
